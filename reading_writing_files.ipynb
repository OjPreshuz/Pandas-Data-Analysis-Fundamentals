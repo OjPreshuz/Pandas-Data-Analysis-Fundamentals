{
 "cells": [
  {
   "cell_type": "code",
   "execution_count": 45,
   "id": "2f9b6b43-256c-49e7-b7e1-f810d99f74c0",
   "metadata": {},
   "outputs": [],
   "source": [
    "import os"
   ]
  },
  {
   "cell_type": "code",
   "execution_count": 3,
   "id": "bac3f1db-567e-4f40-8fae-4402911b85f3",
   "metadata": {},
   "outputs": [
    {
     "data": {
      "text/plain": [
       "'C:\\\\Users\\\\HP\\\\Numpy'"
      ]
     },
     "execution_count": 3,
     "metadata": {},
     "output_type": "execute_result"
    }
   ],
   "source": [
    "os.getcwd()"
   ]
  },
  {
   "cell_type": "code",
   "execution_count": 4,
   "id": "304f41b7-977a-400c-9e86-e56d3cd66827",
   "metadata": {},
   "outputs": [
    {
     "name": "stdout",
     "output_type": "stream",
     "text": [
      "Help on built-in function listdir in module nt:\n",
      "\n",
      "listdir(path=None)\n",
      "    Return a list containing the names of the files in the directory.\n",
      "\n",
      "    path can be specified as either str, bytes, or a path-like object.  If path is bytes,\n",
      "      the filenames returned will also be bytes; in all other circumstances\n",
      "      the filenames returned will be str.\n",
      "    If path is None, uses the path='.'.\n",
      "    On some platforms, path may also be specified as an open file descriptor;\\\n",
      "      the file descriptor must refer to a directory.\n",
      "      If this functionality is unavailable, using it raises NotImplementedError.\n",
      "\n",
      "    The list is in arbitrary order.  It does not include the special\n",
      "    entries '.' and '..' even if they are present in the directory.\n",
      "\n"
     ]
    }
   ],
   "source": [
    "help(os.listdir)"
   ]
  },
  {
   "cell_type": "code",
   "execution_count": 6,
   "id": "81a309c9-afbe-4603-836d-f2f135ec1857",
   "metadata": {},
   "outputs": [
    {
     "data": {
      "text/plain": [
       "['.git',\n",
       " '.ipynb_checkpoints',\n",
       " '.jovianrc',\n",
       " '100-numpy-exercises.ipynb',\n",
       " 'climate.txt',\n",
       " 'climate_results.txt',\n",
       " 'defining_functions.ipynb',\n",
       " 'Exercise1_Vacation_Analysis.ipynb',\n",
       " 'first-steps-with-python.ipynb',\n",
       " 'introduction_to_numpy.ipynb',\n",
       " 'numpy_statistics_project.ipynb',\n",
       " 'python-functions-and-scope.ipynb',\n",
       " 'python-numerical-computing-with-numpy.ipynb',\n",
       " 'python-os-and-filesystem.ipynb',\n",
       " 'python-variables-and-data-types.ipynb',\n",
       " 'python_revision.ipynb',\n",
       " 'random_weather_analyzer.ipynb',\n",
       " 'random_weather_analyzer.txt',\n",
       " 'reading_writing_files.ipynb']"
      ]
     },
     "execution_count": 6,
     "metadata": {},
     "output_type": "execute_result"
    }
   ],
   "source": [
    " os.listdir(\".\") #relative path"
   ]
  },
  {
   "cell_type": "code",
   "execution_count": 11,
   "id": "36724e85-c2c4-48b4-91a4-472830cb2524",
   "metadata": {},
   "outputs": [
    {
     "data": {
      "text/plain": [
       "['All Users', 'Default', 'Default User', 'desktop.ini', 'HP', 'Public']"
      ]
     },
     "execution_count": 11,
     "metadata": {},
     "output_type": "execute_result"
    }
   ],
   "source": [
    "os.listdir('/Users') #absolute path"
   ]
  },
  {
   "cell_type": "code",
   "execution_count": 66,
   "id": "71402b86-d500-4f44-ae0e-3a8eb330fb4d",
   "metadata": {},
   "outputs": [],
   "source": [
    "# Create a directory\n",
    "os.makedirs('./data', exist_ok=True)"
   ]
  },
  {
   "cell_type": "code",
   "execution_count": 67,
   "id": "d49eeef5-bbb7-4353-b2cc-aa6d725b7eae",
   "metadata": {},
   "outputs": [
    {
     "data": {
      "text/plain": [
       "True"
      ]
     },
     "execution_count": 67,
     "metadata": {},
     "output_type": "execute_result"
    }
   ],
   "source": [
    "# To check if the \"data\" directory was created\n",
    "'data' in os.listdir('.')"
   ]
  },
  {
   "cell_type": "code",
   "execution_count": 68,
   "id": "189c820b-21fa-4fe9-85e0-f43eefdc1b83",
   "metadata": {},
   "outputs": [
    {
     "data": {
      "text/plain": [
       "['.git',\n",
       " '.ipynb_checkpoints',\n",
       " '.jovianrc',\n",
       " '100-numpy-exercises.ipynb',\n",
       " 'climate.txt',\n",
       " 'climate_results.txt',\n",
       " 'data',\n",
       " 'defining_functions.ipynb',\n",
       " 'Exercise1_Vacation_Analysis.ipynb',\n",
       " 'first-steps-with-python.ipynb',\n",
       " 'introduction_to_numpy.ipynb',\n",
       " 'numpy_statistics_project.ipynb',\n",
       " 'python-functions-and-scope.ipynb',\n",
       " 'python-numerical-computing-with-numpy.ipynb',\n",
       " 'python-os-and-filesystem.ipynb',\n",
       " 'python-variables-and-data-types.ipynb',\n",
       " 'python_revision.ipynb',\n",
       " 'random_weather_analyzer.ipynb',\n",
       " 'random_weather_analyzer.txt',\n",
       " 'reading_writing_files.ipynb']"
      ]
     },
     "execution_count": 68,
     "metadata": {},
     "output_type": "execute_result"
    }
   ],
   "source": [
    "os.listdir('.')"
   ]
  },
  {
   "cell_type": "code",
   "execution_count": 54,
   "id": "ead5d1b2-da40-4f17-81a8-48c920fac67d",
   "metadata": {},
   "outputs": [
    {
     "data": {
      "text/plain": [
       "['.ipynb_checkpoints', 'loans1.txt', 'loans2.txt', 'loans3.txt']"
      ]
     },
     "execution_count": 54,
     "metadata": {},
     "output_type": "execute_result"
    }
   ],
   "source": [
    "os.listdir('data')"
   ]
  },
  {
   "cell_type": "code",
   "execution_count": 69,
   "id": "1005a1a7-3db5-432c-84c0-269c26004f8c",
   "metadata": {},
   "outputs": [
    {
     "data": {
      "text/plain": [
       "('./data/loans3.txt', <http.client.HTTPMessage at 0x18611dd13b0>)"
      ]
     },
     "execution_count": 69,
     "metadata": {},
     "output_type": "execute_result"
    }
   ],
   "source": [
    "# Downloading files into the data directory using the urllib module\n",
    "import urllib.request\n",
    "\n",
    "url1 = 'https://gist.githubusercontent.com/aakashns/257f6e6c8719c17d0e498ea287d1a386/raw/7def9ef4234ddf0bc82f855ad67dac8b971852ef/loans1.txt'\n",
    "url2 = 'https://gist.githubusercontent.com/aakashns/257f6e6c8719c17d0e498ea287d1a386/raw/7def9ef4234ddf0bc82f855ad67dac8b971852ef/loans2.txt'\n",
    "url3 = 'https://gist.githubusercontent.com/aakashns/257f6e6c8719c17d0e498ea287d1a386/raw/7def9ef4234ddf0bc82f855ad67dac8b971852ef/loans3.txt'\n",
    "\n",
    "# Download into the 'data' folder\n",
    "urllib.request.urlretrieve(url1, './data/loans1.txt')\n",
    "urllib.request.urlretrieve(url2, './data/loans2.txt')\n",
    "urllib.request.urlretrieve(url3, './data/loans3.txt')"
   ]
  },
  {
   "cell_type": "code",
   "execution_count": 71,
   "id": "6ecf7633-6fac-480e-85e3-f60737091362",
   "metadata": {},
   "outputs": [
    {
     "data": {
      "text/plain": [
       "['loans1.txt', 'loans2.txt', 'loans3.txt']"
      ]
     },
     "execution_count": 71,
     "metadata": {},
     "output_type": "execute_result"
    }
   ],
   "source": [
    "os.listdir('./data')"
   ]
  },
  {
   "cell_type": "code",
   "execution_count": 70,
   "id": "a90df8f1-cf1e-4a52-b74c-172f4b5d0549",
   "metadata": {},
   "outputs": [
    {
     "name": "stdout",
     "output_type": "stream",
     "text": [
      "['loans1.txt', 'loans2.txt', 'loans3.txt']\n"
     ]
    }
   ],
   "source": [
    "print(os.listdir('data'))"
   ]
  },
  {
   "cell_type": "code",
   "execution_count": 73,
   "id": "5b1c223f-9b24-4868-b213-c06c2b445a4d",
   "metadata": {},
   "outputs": [],
   "source": [
    "# Reading from a file\n",
    "\n",
    "file = open('./data/loans1.txt', mode = 'r')"
   ]
  },
  {
   "cell_type": "code",
   "execution_count": 74,
   "id": "1c681cb8-f26b-4289-8d6a-1a09d737b40a",
   "metadata": {},
   "outputs": [],
   "source": [
    "file_contents = file.read()"
   ]
  },
  {
   "cell_type": "code",
   "execution_count": 75,
   "id": "4c1d940f-1cef-4310-8872-6c1fc094b16a",
   "metadata": {},
   "outputs": [
    {
     "name": "stdout",
     "output_type": "stream",
     "text": [
      "amount,duration,rate,down_payment\n",
      "100000,36,0.08,20000\n",
      "200000,12,0.1,\n",
      "628400,120,0.12,100000\n",
      "4637400,240,0.06,\n",
      "42900,90,0.07,8900\n",
      "916000,16,0.13,\n",
      "45230,48,0.08,4300\n",
      "991360,99,0.08,\n",
      "423000,27,0.09,47200\n"
     ]
    }
   ],
   "source": [
    "print(file_contents)"
   ]
  },
  {
   "cell_type": "code",
   "execution_count": 76,
   "id": "12c2dc79-a1fe-48ca-8b32-01cfc67e263a",
   "metadata": {},
   "outputs": [],
   "source": [
    "file.close()"
   ]
  },
  {
   "cell_type": "code",
   "execution_count": 83,
   "id": "7a4f9a0e-c49c-4a1d-88f5-0d4834bcce91",
   "metadata": {},
   "outputs": [
    {
     "name": "stdout",
     "output_type": "stream",
     "text": [
      "amount,duration,rate,down_payment\n",
      "828400,120,0.11,100000\n",
      "4633400,240,0.06,\n",
      "42900,90,0.08,8900\n",
      "983000,16,0.14,\n",
      "15230,48,0.07,4300\n"
     ]
    }
   ],
   "source": [
    "# To read a file and close it automatically\n",
    "with open('./data/loans2.txt', 'r') as file2:\n",
    "    file2_contents = file2.read()\n",
    "    print(file2_contents)"
   ]
  },
  {
   "cell_type": "code",
   "execution_count": 84,
   "id": "9672e997-927f-4057-aab2-c36707fbcd96",
   "metadata": {},
   "outputs": [
    {
     "ename": "ValueError",
     "evalue": "I/O operation on closed file.",
     "output_type": "error",
     "traceback": [
      "\u001b[31m---------------------------------------------------------------------------\u001b[39m",
      "\u001b[31mValueError\u001b[39m                                Traceback (most recent call last)",
      "\u001b[36mCell\u001b[39m\u001b[36m \u001b[39m\u001b[32mIn[84]\u001b[39m\u001b[32m, line 1\u001b[39m\n\u001b[32m----> \u001b[39m\u001b[32m1\u001b[39m \u001b[43mfile2\u001b[49m\u001b[43m.\u001b[49m\u001b[43mread\u001b[49m\u001b[43m(\u001b[49m\u001b[43m)\u001b[49m\n",
      "\u001b[31mValueError\u001b[39m: I/O operation on closed file."
     ]
    }
   ],
   "source": [
    "file2.read()"
   ]
  },
  {
   "cell_type": "code",
   "execution_count": null,
   "id": "25d07a58-4f9b-4b97-915a-6c31da7270f4",
   "metadata": {},
   "outputs": [],
   "source": []
  }
 ],
 "metadata": {
  "kernelspec": {
   "display_name": "Python 3 (ipykernel)",
   "language": "python",
   "name": "python3"
  },
  "language_info": {
   "codemirror_mode": {
    "name": "ipython",
    "version": 3
   },
   "file_extension": ".py",
   "mimetype": "text/x-python",
   "name": "python",
   "nbconvert_exporter": "python",
   "pygments_lexer": "ipython3",
   "version": "3.13.3"
  }
 },
 "nbformat": 4,
 "nbformat_minor": 5
}
