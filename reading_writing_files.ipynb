{
 "cells": [
  {
   "cell_type": "code",
   "execution_count": 2,
   "id": "2f9b6b43-256c-49e7-b7e1-f810d99f74c0",
   "metadata": {},
   "outputs": [],
   "source": [
    "import os"
   ]
  },
  {
   "cell_type": "code",
   "execution_count": 3,
   "id": "bac3f1db-567e-4f40-8fae-4402911b85f3",
   "metadata": {},
   "outputs": [
    {
     "data": {
      "text/plain": [
       "'C:\\\\Users\\\\HP\\\\Numpy'"
      ]
     },
     "execution_count": 3,
     "metadata": {},
     "output_type": "execute_result"
    }
   ],
   "source": [
    "os.getcwd()"
   ]
  },
  {
   "cell_type": "code",
   "execution_count": 4,
   "id": "304f41b7-977a-400c-9e86-e56d3cd66827",
   "metadata": {},
   "outputs": [
    {
     "name": "stdout",
     "output_type": "stream",
     "text": [
      "Help on built-in function listdir in module nt:\n",
      "\n",
      "listdir(path=None)\n",
      "    Return a list containing the names of the files in the directory.\n",
      "\n",
      "    path can be specified as either str, bytes, or a path-like object.  If path is bytes,\n",
      "      the filenames returned will also be bytes; in all other circumstances\n",
      "      the filenames returned will be str.\n",
      "    If path is None, uses the path='.'.\n",
      "    On some platforms, path may also be specified as an open file descriptor;\\\n",
      "      the file descriptor must refer to a directory.\n",
      "      If this functionality is unavailable, using it raises NotImplementedError.\n",
      "\n",
      "    The list is in arbitrary order.  It does not include the special\n",
      "    entries '.' and '..' even if they are present in the directory.\n",
      "\n"
     ]
    }
   ],
   "source": [
    "help(os.listdir)"
   ]
  },
  {
   "cell_type": "code",
   "execution_count": 4,
   "id": "81a309c9-afbe-4603-836d-f2f135ec1857",
   "metadata": {},
   "outputs": [
    {
     "data": {
      "text/plain": [
       "['.git',\n",
       " '.ipynb_checkpoints',\n",
       " '.jovianrc',\n",
       " '100-numpy-exercises.ipynb',\n",
       " 'climate.txt',\n",
       " 'climate_results.txt',\n",
       " 'data',\n",
       " 'defining_functions.ipynb',\n",
       " 'Exercise1_Vacation_Analysis.ipynb',\n",
       " 'first-steps-with-python.ipynb',\n",
       " 'introduction_to_numpy.ipynb',\n",
       " 'numpy_statistics_project.ipynb',\n",
       " 'python-functions-and-scope.ipynb',\n",
       " 'python-numerical-computing-with-numpy.ipynb',\n",
       " 'python-os-and-filesystem.ipynb',\n",
       " 'python-variables-and-data-types.ipynb',\n",
       " 'python_revision.ipynb',\n",
       " 'reading_writing_files.ipynb',\n",
       " 'README.md']"
      ]
     },
     "execution_count": 4,
     "metadata": {},
     "output_type": "execute_result"
    }
   ],
   "source": [
    " os.listdir(\".\") #relative path"
   ]
  },
  {
   "cell_type": "code",
   "execution_count": 5,
   "id": "36724e85-c2c4-48b4-91a4-472830cb2524",
   "metadata": {},
   "outputs": [
    {
     "data": {
      "text/plain": [
       "['All Users', 'Default', 'Default User', 'desktop.ini', 'HP', 'Public']"
      ]
     },
     "execution_count": 5,
     "metadata": {},
     "output_type": "execute_result"
    }
   ],
   "source": [
    "os.listdir('/Users') #absolute path"
   ]
  },
  {
   "cell_type": "code",
   "execution_count": 6,
   "id": "71402b86-d500-4f44-ae0e-3a8eb330fb4d",
   "metadata": {},
   "outputs": [],
   "source": [
    "# Create a directory\n",
    "os.makedirs('./data', exist_ok=True)"
   ]
  },
  {
   "cell_type": "code",
   "execution_count": 7,
   "id": "d49eeef5-bbb7-4353-b2cc-aa6d725b7eae",
   "metadata": {},
   "outputs": [
    {
     "data": {
      "text/plain": [
       "True"
      ]
     },
     "execution_count": 7,
     "metadata": {},
     "output_type": "execute_result"
    }
   ],
   "source": [
    "# To check if the \"data\" directory was created\n",
    "'data' in os.listdir('.')"
   ]
  },
  {
   "cell_type": "code",
   "execution_count": 8,
   "id": "189c820b-21fa-4fe9-85e0-f43eefdc1b83",
   "metadata": {},
   "outputs": [
    {
     "data": {
      "text/plain": [
       "['.git',\n",
       " '.ipynb_checkpoints',\n",
       " '.jovianrc',\n",
       " '100-numpy-exercises.ipynb',\n",
       " 'climate.txt',\n",
       " 'climate_results.txt',\n",
       " 'data',\n",
       " 'defining_functions.ipynb',\n",
       " 'Exercise1_Vacation_Analysis.ipynb',\n",
       " 'first-steps-with-python.ipynb',\n",
       " 'introduction_to_numpy.ipynb',\n",
       " 'numpy_statistics_project.ipynb',\n",
       " 'python-functions-and-scope.ipynb',\n",
       " 'python-numerical-computing-with-numpy.ipynb',\n",
       " 'python-os-and-filesystem.ipynb',\n",
       " 'python-variables-and-data-types.ipynb',\n",
       " 'python_revision.ipynb',\n",
       " 'reading_writing_files.ipynb',\n",
       " 'README.md']"
      ]
     },
     "execution_count": 8,
     "metadata": {},
     "output_type": "execute_result"
    }
   ],
   "source": [
    "os.listdir('.')"
   ]
  },
  {
   "cell_type": "code",
   "execution_count": 9,
   "id": "ead5d1b2-da40-4f17-81a8-48c920fac67d",
   "metadata": {},
   "outputs": [
    {
     "data": {
      "text/plain": [
       "['loans1.txt', 'loans2.txt', 'loans3.txt']"
      ]
     },
     "execution_count": 9,
     "metadata": {},
     "output_type": "execute_result"
    }
   ],
   "source": [
    "os.listdir('data')"
   ]
  },
  {
   "cell_type": "code",
   "execution_count": 10,
   "id": "1005a1a7-3db5-432c-84c0-269c26004f8c",
   "metadata": {},
   "outputs": [
    {
     "data": {
      "text/plain": [
       "('./data/loans3.txt', <http.client.HTTPMessage at 0x1e316f43530>)"
      ]
     },
     "execution_count": 10,
     "metadata": {},
     "output_type": "execute_result"
    }
   ],
   "source": [
    "# Downloading files into the data directory using the urllib module\n",
    "import urllib.request\n",
    "\n",
    "url1 = 'https://gist.githubusercontent.com/aakashns/257f6e6c8719c17d0e498ea287d1a386/raw/7def9ef4234ddf0bc82f855ad67dac8b971852ef/loans1.txt'\n",
    "url2 = 'https://gist.githubusercontent.com/aakashns/257f6e6c8719c17d0e498ea287d1a386/raw/7def9ef4234ddf0bc82f855ad67dac8b971852ef/loans2.txt'\n",
    "url3 = 'https://gist.githubusercontent.com/aakashns/257f6e6c8719c17d0e498ea287d1a386/raw/7def9ef4234ddf0bc82f855ad67dac8b971852ef/loans3.txt'\n",
    "\n",
    "# Download into the 'data' folder\n",
    "urllib.request.urlretrieve(url1, './data/loans1.txt')\n",
    "urllib.request.urlretrieve(url2, './data/loans2.txt')\n",
    "urllib.request.urlretrieve(url3, './data/loans3.txt')"
   ]
  },
  {
   "cell_type": "code",
   "execution_count": 71,
   "id": "6ecf7633-6fac-480e-85e3-f60737091362",
   "metadata": {},
   "outputs": [
    {
     "data": {
      "text/plain": [
       "['loans1.txt', 'loans2.txt', 'loans3.txt']"
      ]
     },
     "execution_count": 71,
     "metadata": {},
     "output_type": "execute_result"
    }
   ],
   "source": [
    "os.listdir('./data')"
   ]
  },
  {
   "cell_type": "code",
   "execution_count": 70,
   "id": "a90df8f1-cf1e-4a52-b74c-172f4b5d0549",
   "metadata": {},
   "outputs": [
    {
     "name": "stdout",
     "output_type": "stream",
     "text": [
      "['loans1.txt', 'loans2.txt', 'loans3.txt']\n"
     ]
    }
   ],
   "source": [
    "print(os.listdir('data'))"
   ]
  },
  {
   "cell_type": "code",
   "execution_count": 73,
   "id": "5b1c223f-9b24-4868-b213-c06c2b445a4d",
   "metadata": {},
   "outputs": [],
   "source": [
    "# Reading from a file\n",
    "\n",
    "file = open('./data/loans1.txt', mode = 'r')"
   ]
  },
  {
   "cell_type": "code",
   "execution_count": 74,
   "id": "1c681cb8-f26b-4289-8d6a-1a09d737b40a",
   "metadata": {},
   "outputs": [],
   "source": [
    "file_contents = file.read()"
   ]
  },
  {
   "cell_type": "code",
   "execution_count": 75,
   "id": "4c1d940f-1cef-4310-8872-6c1fc094b16a",
   "metadata": {},
   "outputs": [
    {
     "name": "stdout",
     "output_type": "stream",
     "text": [
      "amount,duration,rate,down_payment\n",
      "100000,36,0.08,20000\n",
      "200000,12,0.1,\n",
      "628400,120,0.12,100000\n",
      "4637400,240,0.06,\n",
      "42900,90,0.07,8900\n",
      "916000,16,0.13,\n",
      "45230,48,0.08,4300\n",
      "991360,99,0.08,\n",
      "423000,27,0.09,47200\n"
     ]
    }
   ],
   "source": [
    "print(file_contents)"
   ]
  },
  {
   "cell_type": "code",
   "execution_count": 76,
   "id": "12c2dc79-a1fe-48ca-8b32-01cfc67e263a",
   "metadata": {},
   "outputs": [],
   "source": [
    "file.close()"
   ]
  },
  {
   "cell_type": "code",
   "execution_count": 10,
   "id": "7a4f9a0e-c49c-4a1d-88f5-0d4834bcce91",
   "metadata": {},
   "outputs": [
    {
     "name": "stdout",
     "output_type": "stream",
     "text": [
      "amount,duration,rate,down_payment\n",
      "828400,120,0.11,100000\n",
      "4633400,240,0.06,\n",
      "42900,90,0.08,8900\n",
      "983000,16,0.14,\n",
      "15230,48,0.07,4300\n"
     ]
    }
   ],
   "source": [
    "# To read a file and close it automatically\n",
    "with open('./data/loans2.txt', 'r') as file2:\n",
    "    file2_contents = file2.read()\n",
    "    print(file2_contents)"
   ]
  },
  {
   "cell_type": "code",
   "execution_count": 84,
   "id": "9672e997-927f-4057-aab2-c36707fbcd96",
   "metadata": {},
   "outputs": [
    {
     "ename": "ValueError",
     "evalue": "I/O operation on closed file.",
     "output_type": "error",
     "traceback": [
      "\u001b[31m---------------------------------------------------------------------------\u001b[39m",
      "\u001b[31mValueError\u001b[39m                                Traceback (most recent call last)",
      "\u001b[36mCell\u001b[39m\u001b[36m \u001b[39m\u001b[32mIn[84]\u001b[39m\u001b[32m, line 1\u001b[39m\n\u001b[32m----> \u001b[39m\u001b[32m1\u001b[39m \u001b[43mfile2\u001b[49m\u001b[43m.\u001b[49m\u001b[43mread\u001b[49m\u001b[43m(\u001b[49m\u001b[43m)\u001b[49m\n",
      "\u001b[31mValueError\u001b[39m: I/O operation on closed file."
     ]
    }
   ],
   "source": [
    "file2.read()"
   ]
  },
  {
   "cell_type": "code",
   "execution_count": 14,
   "id": "25d07a58-4f9b-4b97-915a-6c31da7270f4",
   "metadata": {},
   "outputs": [],
   "source": [
    "# To read a file line by line\n",
    "with open('./data/loans1.txt', 'r') as file1:\n",
    "    file1_lines = file1.readlines()"
   ]
  },
  {
   "cell_type": "code",
   "execution_count": 15,
   "id": "116a79c2-4a15-4dcd-b4a5-a44d7c7f57a9",
   "metadata": {},
   "outputs": [
    {
     "data": {
      "text/plain": [
       "['amount,duration,rate,down_payment\\n',\n",
       " '100000,36,0.08,20000\\n',\n",
       " '200000,12,0.1,\\n',\n",
       " '628400,120,0.12,100000\\n',\n",
       " '4637400,240,0.06,\\n',\n",
       " '42900,90,0.07,8900\\n',\n",
       " '916000,16,0.13,\\n',\n",
       " '45230,48,0.08,4300\\n',\n",
       " '991360,99,0.08,\\n',\n",
       " '423000,27,0.09,47200']"
      ]
     },
     "execution_count": 15,
     "metadata": {},
     "output_type": "execute_result"
    }
   ],
   "source": [
    "file1_lines"
   ]
  },
  {
   "cell_type": "code",
   "execution_count": 16,
   "id": "a5264bba-6d50-4f17-bd38-ce00a0fc3ae6",
   "metadata": {},
   "outputs": [
    {
     "data": {
      "text/plain": [
       "'amount,duration,rate,down_payment'"
      ]
     },
     "execution_count": 16,
     "metadata": {},
     "output_type": "execute_result"
    }
   ],
   "source": [
    "file1_lines[0].strip()"
   ]
  },
  {
   "cell_type": "code",
   "execution_count": 11,
   "id": "68fc6742-c208-4042-b6da-0609f94cafad",
   "metadata": {},
   "outputs": [
    {
     "data": {
      "text/plain": [
       "'amount,duration,rate,down_payment\\n828400,120,0.11,100000\\n4633400,240,0.06,\\n42900,90,0.08,8900\\n983000,16,0.14,\\n15230,48,0.07,4300'"
      ]
     },
     "execution_count": 11,
     "metadata": {},
     "output_type": "execute_result"
    }
   ],
   "source": [
    "file2_contents"
   ]
  },
  {
   "cell_type": "code",
   "execution_count": 17,
   "id": "f5b52337-6cce-416b-a164-97bc6c3d2143",
   "metadata": {},
   "outputs": [],
   "source": [
    "# Processing Data From Files\n",
    "def parse_headers(header_line):\n",
    "    return header_line.strip().split(',')"
   ]
  },
  {
   "cell_type": "code",
   "execution_count": 18,
   "id": "702072d1-5e7d-4635-8ab5-5653044ad930",
   "metadata": {},
   "outputs": [
    {
     "data": {
      "text/plain": [
       "'amount,duration,rate,down_payment\\n'"
      ]
     },
     "execution_count": 18,
     "metadata": {},
     "output_type": "execute_result"
    }
   ],
   "source": [
    "file1_lines[0]"
   ]
  },
  {
   "cell_type": "code",
   "execution_count": 19,
   "id": "a5475c93-8da9-4a56-b831-8f1193579731",
   "metadata": {},
   "outputs": [],
   "source": [
    "header = parse_headers(file1_lines[0])"
   ]
  },
  {
   "cell_type": "code",
   "execution_count": 20,
   "id": "6ae03f62-95a6-4e3b-9819-f562801313e0",
   "metadata": {},
   "outputs": [
    {
     "data": {
      "text/plain": [
       "['amount', 'duration', 'rate', 'down_payment']"
      ]
     },
     "execution_count": 20,
     "metadata": {},
     "output_type": "execute_result"
    }
   ],
   "source": [
    "header"
   ]
  },
  {
   "cell_type": "code",
   "execution_count": 21,
   "id": "266bac25-efe7-4e07-bffd-8b691f96d0cf",
   "metadata": {},
   "outputs": [],
   "source": [
    "# Define a function that transfroms data into a list of floating numbers\n",
    "def parse_values(data_line):\n",
    "    value = []\n",
    "    for item in data_line.strip().split(','):\n",
    "        value.append(float(item))\n",
    "    return value"
   ]
  },
  {
   "cell_type": "code",
   "execution_count": 22,
   "id": "efcae334-f4b4-4a9f-a20b-25be6e1fb72e",
   "metadata": {},
   "outputs": [
    {
     "data": {
      "text/plain": [
       "[100000.0, 36.0, 0.08, 20000.0]"
      ]
     },
     "execution_count": 22,
     "metadata": {},
     "output_type": "execute_result"
    }
   ],
   "source": [
    "parse_values(file1_lines[1])"
   ]
  },
  {
   "cell_type": "code",
   "execution_count": 23,
   "id": "30d9ef4c-8371-4851-bc80-f9354402a911",
   "metadata": {},
   "outputs": [],
   "source": [
    "# Define a function for a line of data that may not have complete information\n",
    "def parse_values(data_line):\n",
    "    value = []\n",
    "    for item in data_line.strip().split(','):\n",
    "        if item == '':\n",
    "            value.append(0.0)\n",
    "        else:\n",
    "            value.append(float(item))\n",
    "    return value"
   ]
  },
  {
   "cell_type": "code",
   "execution_count": 24,
   "id": "b82e8ed9-69dc-4512-972e-a6f811cf50d8",
   "metadata": {},
   "outputs": [
    {
     "data": {
      "text/plain": [
       "[200000.0, 12.0, 0.1, 0.0]"
      ]
     },
     "execution_count": 24,
     "metadata": {},
     "output_type": "execute_result"
    }
   ],
   "source": [
    "parse_values(file1_lines[2])"
   ]
  },
  {
   "cell_type": "code",
   "execution_count": 25,
   "id": "a16b542f-a9c8-4371-8bce-f27681c94667",
   "metadata": {},
   "outputs": [
    {
     "name": "stdout",
     "output_type": "stream",
     "text": [
      "(1, 'a')\n",
      "(2, 'b')\n",
      "(3, 'c')\n"
     ]
    }
   ],
   "source": [
    "for item in zip([1, 2, 3], ['a', 'b', 'c']):\n",
    "    print(item)"
   ]
  },
  {
   "cell_type": "code",
   "execution_count": 26,
   "id": "795c85d1-839c-4926-ae1e-1ae163834c1e",
   "metadata": {},
   "outputs": [],
   "source": [
    "# Def a function that takes a list of values and a lsit of headers and returns a dictionary\n",
    "def create_item_dict(value, header):\n",
    "    result = {}\n",
    "    for value, header in zip(value, header):\n",
    "        result[header] = value\n",
    "    return result"
   ]
  },
  {
   "cell_type": "code",
   "execution_count": 27,
   "id": "c416a675-7aeb-40e9-920d-e4a994914518",
   "metadata": {},
   "outputs": [
    {
     "data": {
      "text/plain": [
       "'100000,36,0.08,20000\\n'"
      ]
     },
     "execution_count": 27,
     "metadata": {},
     "output_type": "execute_result"
    }
   ],
   "source": [
    "file1_lines[1]"
   ]
  },
  {
   "cell_type": "code",
   "execution_count": 28,
   "id": "020c8537-2a6f-4dd3-9305-ba5ab9ef4fc6",
   "metadata": {},
   "outputs": [
    {
     "data": {
      "text/plain": [
       "{'amount': 100000.0, 'duration': 36.0, 'rate': 0.08, 'down_payment': 20000.0}"
      ]
     },
     "execution_count": 28,
     "metadata": {},
     "output_type": "execute_result"
    }
   ],
   "source": [
    "values1 = parse_values(file1_lines[1])\n",
    "create_item_dict(values1, header)"
   ]
  },
  {
   "cell_type": "code",
   "execution_count": 29,
   "id": "7cf00fda-b572-4548-8b32-85ffe9df954c",
   "metadata": {},
   "outputs": [
    {
     "data": {
      "text/plain": [
       "'200000,12,0.1,\\n'"
      ]
     },
     "execution_count": 29,
     "metadata": {},
     "output_type": "execute_result"
    }
   ],
   "source": [
    "file1_lines[2]"
   ]
  },
  {
   "cell_type": "code",
   "execution_count": 30,
   "id": "3232a431-cea8-49dc-9c93-17f84a9f965e",
   "metadata": {},
   "outputs": [
    {
     "data": {
      "text/plain": [
       "{'amount': 200000.0, 'duration': 12.0, 'rate': 0.1, 'down_payment': 0.0}"
      ]
     },
     "execution_count": 30,
     "metadata": {},
     "output_type": "execute_result"
    }
   ],
   "source": [
    "values2 = parse_values(file1_lines[2])\n",
    "create_item_dict(values2, header)"
   ]
  },
  {
   "cell_type": "code",
   "execution_count": 31,
   "id": "44061ee3-aee5-456c-9c12-065752082d67",
   "metadata": {},
   "outputs": [
    {
     "data": {
      "text/plain": [
       "['amount', 'duration', 'rate', 'down_payment']"
      ]
     },
     "execution_count": 31,
     "metadata": {},
     "output_type": "execute_result"
    }
   ],
   "source": [
    "header"
   ]
  },
  {
   "cell_type": "code",
   "execution_count": 32,
   "id": "5237eb71-b9e1-42a5-9cd5-015c9b613dcc",
   "metadata": {},
   "outputs": [
    {
     "data": {
      "text/plain": [
       "[200000.0, 12.0, 0.1, 0.0]"
      ]
     },
     "execution_count": 32,
     "metadata": {},
     "output_type": "execute_result"
    }
   ],
   "source": [
    "values2"
   ]
  },
  {
   "cell_type": "code",
   "execution_count": 55,
   "id": "af8ea1d0-9a39-4fee-a6e6-df514696a797",
   "metadata": {},
   "outputs": [],
   "source": [
    "# Define the CSV function\\\n",
    "def read_csv(path):\n",
    "    # Open the file in read mode\n",
    "    with open(path, 'r') as f:\n",
    "        # Get a list of lines\n",
    "        lines = f.readlines()\n",
    "        # Parse the header\n",
    "        header = parse_headers(lines[0])\n",
    "         # Initialize the result list\n",
    "        result = []\n",
    "        # Loop over the remaining lines\n",
    "        for data_line in lines[1:]:\n",
    "            # Parse the value\n",
    "            value = parse_values(data_line)\n",
    "            # Create a dictionary using values and headers\n",
    "            item_dict = create_item_dict(value, header)\n",
    "            # Add the dictionary to the result\n",
    "            result.append(item_dict)\n",
    "    return result"
   ]
  },
  {
   "cell_type": "code",
   "execution_count": 56,
   "id": "593b3c19-09a0-4cb9-8a04-c6a9c9d9f1ca",
   "metadata": {},
   "outputs": [
    {
     "name": "stdout",
     "output_type": "stream",
     "text": [
      "amount,duration,rate,down_payment\n",
      "828400,120,0.11,100000\n",
      "4633400,240,0.06,\n",
      "42900,90,0.08,8900\n",
      "983000,16,0.14,\n",
      "15230,48,0.07,4300\n"
     ]
    }
   ],
   "source": [
    "with open('./data/loans2.txt') as file2:\n",
    "    print(file2.read())"
   ]
  },
  {
   "cell_type": "code",
   "execution_count": 57,
   "id": "495c6e19-f956-4de7-99bd-62e64de7c387",
   "metadata": {},
   "outputs": [
    {
     "data": {
      "text/plain": [
       "[{'amount': 828400.0,\n",
       "  'duration': 120.0,\n",
       "  'rate': 0.11,\n",
       "  'down_payment': 100000.0},\n",
       " {'amount': 4633400.0, 'duration': 240.0, 'rate': 0.06, 'down_payment': 0.0},\n",
       " {'amount': 42900.0, 'duration': 90.0, 'rate': 0.08, 'down_payment': 8900.0},\n",
       " {'amount': 983000.0, 'duration': 16.0, 'rate': 0.14, 'down_payment': 0.0},\n",
       " {'amount': 15230.0, 'duration': 48.0, 'rate': 0.07, 'down_payment': 4300.0}]"
      ]
     },
     "execution_count": 57,
     "metadata": {},
     "output_type": "execute_result"
    }
   ],
   "source": [
    "read_csv('./data/loans2.txt')"
   ]
  },
  {
   "cell_type": "code",
   "execution_count": 58,
   "id": "c4e9e30b-0613-41dd-b358-e54a5c308c96",
   "metadata": {},
   "outputs": [],
   "source": [
    "# Processing Data From Files\n",
    "def parse_headers(header_line):\n",
    "    return header_line.strip().split(',')\n",
    "\n",
    "# Define a function for a line of data that may not have complete information\n",
    "def parse_values(data_line):\n",
    "    value = []\n",
    "    for item in data_line.strip().split(','):\n",
    "        if item == '':\n",
    "            value.append(0.0)\n",
    "        else:\n",
    "            value.append(float(item))\n",
    "    return value\n",
    "\n",
    "# Def a function that takes a list of values and a lsit of headers and returns a dictionary\n",
    "def create_item_dict(value, header):\n",
    "    result = {}\n",
    "    for value, header in zip(value, header):\n",
    "        result[header] = value\n",
    "    return result\n",
    "\n",
    "# Define the CSV function\\\n",
    "def read_csv(path):\n",
    "    # Open the file in read mode\n",
    "    with open(path, 'r') as f:\n",
    "        # Get a list of lines\n",
    "        lines = f.readlines()\n",
    "        # Parse the header\n",
    "        header = parse_headers(lines[0])\n",
    "         # Initialize the result list\n",
    "        result = []\n",
    "        # Loop over the remaining lines\n",
    "        for data_line in lines[1:]:\n",
    "            # Parse the value\n",
    "            value = parse_values(data_line)\n",
    "            # Create a dictionary using values and headers\n",
    "            item_dict = create_item_dict(value, header)\n",
    "            # Add the dictionary to the result\n",
    "            result.append(item_dict)\n",
    "    return result"
   ]
  },
  {
   "cell_type": "code",
   "execution_count": 66,
   "id": "11cf7431-bce4-4a07-a0b4-a1bab0198ab1",
   "metadata": {},
   "outputs": [],
   "source": [
    "# To calculate the EMI for each loan\n",
    "import math\n",
    "\n",
    "def loan_emi(amount, duration, rate, down_payment = 0):\n",
    "    loan_amount = amount - down_payment\n",
    "    try:\n",
    "        emi = loan_amount * rate * ((1 + rate) ** duration) / (((1 + rate) ** duration) - 1)\n",
    "    except ZeroDivisionError:\n",
    "        emi = loan_amount / duration\n",
    "    return math.ceil(emi)"
   ]
  },
  {
   "cell_type": "code",
   "execution_count": 60,
   "id": "d7d30f3c-2019-461d-9b81-d5ca2a597e73",
   "metadata": {},
   "outputs": [],
   "source": [
    "loans2 = read_csv('./data/loans2.txt')"
   ]
  },
  {
   "cell_type": "code",
   "execution_count": 62,
   "id": "2ba0dcee-2dce-4cf1-8926-454f28f20949",
   "metadata": {},
   "outputs": [
    {
     "data": {
      "text/plain": [
       "[{'amount': 828400.0,\n",
       "  'duration': 120.0,\n",
       "  'rate': 0.11,\n",
       "  'down_payment': 100000.0},\n",
       " {'amount': 4633400.0, 'duration': 240.0, 'rate': 0.06, 'down_payment': 0.0},\n",
       " {'amount': 42900.0, 'duration': 90.0, 'rate': 0.08, 'down_payment': 8900.0},\n",
       " {'amount': 983000.0, 'duration': 16.0, 'rate': 0.14, 'down_payment': 0.0},\n",
       " {'amount': 15230.0, 'duration': 48.0, 'rate': 0.07, 'down_payment': 4300.0}]"
      ]
     },
     "execution_count": 62,
     "metadata": {},
     "output_type": "execute_result"
    }
   ],
   "source": [
    "loans2"
   ]
  },
  {
   "cell_type": "code",
   "execution_count": 64,
   "id": "8e421bf1-92c0-4f08-818d-27cd60b91fc7",
   "metadata": {},
   "outputs": [],
   "source": [
    "\n",
    "for loan in loans2:\n",
    "    loan['emi'] = loan_emi(loan['amount'],\n",
    "                          loan['duration'],\n",
    "                          loan['rate']/12,\n",
    "                          loan['down_payment'])"
   ]
  },
  {
   "cell_type": "code",
   "execution_count": 65,
   "id": "a3877146-a058-40d6-ac08-aa19c38e738a",
   "metadata": {},
   "outputs": [
    {
     "data": {
      "text/plain": [
       "[{'amount': 828400.0,\n",
       "  'duration': 120.0,\n",
       "  'rate': 0.11,\n",
       "  'down_payment': 100000.0,\n",
       "  'emi': 10034},\n",
       " {'amount': 4633400.0,\n",
       "  'duration': 240.0,\n",
       "  'rate': 0.06,\n",
       "  'down_payment': 0.0,\n",
       "  'emi': 33196},\n",
       " {'amount': 42900.0,\n",
       "  'duration': 90.0,\n",
       "  'rate': 0.08,\n",
       "  'down_payment': 8900.0,\n",
       "  'emi': 504},\n",
       " {'amount': 983000.0,\n",
       "  'duration': 16.0,\n",
       "  'rate': 0.14,\n",
       "  'down_payment': 0.0,\n",
       "  'emi': 67707},\n",
       " {'amount': 15230.0,\n",
       "  'duration': 48.0,\n",
       "  'rate': 0.07,\n",
       "  'down_payment': 4300.0,\n",
       "  'emi': 262}]"
      ]
     },
     "execution_count": 65,
     "metadata": {},
     "output_type": "execute_result"
    }
   ],
   "source": [
    "loans2"
   ]
  },
  {
   "cell_type": "code",
   "execution_count": 73,
   "id": "5056a056-5deb-41b3-82a2-c967d5cd31aa",
   "metadata": {},
   "outputs": [],
   "source": [
    "# Function we can use forother loan files\n",
    "def compute_emis(loans):\n",
    "    for loan in loans:\n",
    "        loan['emi'] = loan_emi(loan['amount'],\n",
    "                          loan['duration'],\n",
    "                          loan['rate']/12,\n",
    "                          loan['down_payment'])"
   ]
  },
  {
   "cell_type": "code",
   "execution_count": 70,
   "id": "ffd65481-5a44-4097-887e-dd244746e98c",
   "metadata": {},
   "outputs": [],
   "source": [
    "# Processing Files\n",
    "loans1 = read_csv('./data/loans1.txt')"
   ]
  },
  {
   "cell_type": "code",
   "execution_count": 75,
   "id": "4a60b91e-277f-4678-bb92-1cd2e056fe2c",
   "metadata": {},
   "outputs": [],
   "source": [
    "compute_emis(loans1)"
   ]
  },
  {
   "cell_type": "code",
   "execution_count": 76,
   "id": "ae32c5b0-042c-4279-8418-4b011f9466f7",
   "metadata": {},
   "outputs": [
    {
     "data": {
      "text/plain": [
       "[{'amount': 100000.0,\n",
       "  'duration': 36.0,\n",
       "  'rate': 0.08,\n",
       "  'down_payment': 20000.0,\n",
       "  'emi': 2507},\n",
       " {'amount': 200000.0,\n",
       "  'duration': 12.0,\n",
       "  'rate': 0.1,\n",
       "  'down_payment': 0.0,\n",
       "  'emi': 17584},\n",
       " {'amount': 628400.0,\n",
       "  'duration': 120.0,\n",
       "  'rate': 0.12,\n",
       "  'down_payment': 100000.0,\n",
       "  'emi': 7582},\n",
       " {'amount': 4637400.0,\n",
       "  'duration': 240.0,\n",
       "  'rate': 0.06,\n",
       "  'down_payment': 0.0,\n",
       "  'emi': 33224},\n",
       " {'amount': 42900.0,\n",
       "  'duration': 90.0,\n",
       "  'rate': 0.07,\n",
       "  'down_payment': 8900.0,\n",
       "  'emi': 487},\n",
       " {'amount': 916000.0,\n",
       "  'duration': 16.0,\n",
       "  'rate': 0.13,\n",
       "  'down_payment': 0.0,\n",
       "  'emi': 62664},\n",
       " {'amount': 45230.0,\n",
       "  'duration': 48.0,\n",
       "  'rate': 0.08,\n",
       "  'down_payment': 4300.0,\n",
       "  'emi': 1000},\n",
       " {'amount': 991360.0,\n",
       "  'duration': 99.0,\n",
       "  'rate': 0.08,\n",
       "  'down_payment': 0.0,\n",
       "  'emi': 13712},\n",
       " {'amount': 423000.0,\n",
       "  'duration': 27.0,\n",
       "  'rate': 0.09,\n",
       "  'down_payment': 47200.0,\n",
       "  'emi': 15428}]"
      ]
     },
     "execution_count": 76,
     "metadata": {},
     "output_type": "execute_result"
    }
   ],
   "source": [
    "loans1"
   ]
  },
  {
   "cell_type": "code",
   "execution_count": 77,
   "id": "e69a2764-9af4-40d6-bcb9-677d2649ac17",
   "metadata": {},
   "outputs": [],
   "source": [
    "with open('./data/emis1.txt', 'w') as f:\n",
    "    for loan in loans1:\n",
    "        f.write('{}, {}, {}, {}, {}\\n'.format(\n",
    "            loan['amount'],\n",
    "            loan['duration'],\n",
    "            loan['rate']/12,\n",
    "            loan['down_payment'],\n",
    "            loan['emi']))"
   ]
  },
  {
   "cell_type": "code",
   "execution_count": 78,
   "id": "25c8d4d3-5123-4c40-b4d0-77c0b7b7eedb",
   "metadata": {},
   "outputs": [
    {
     "data": {
      "text/plain": [
       "['emis1.txt', 'loans1.txt', 'loans2.txt', 'loans3.txt']"
      ]
     },
     "execution_count": 78,
     "metadata": {},
     "output_type": "execute_result"
    }
   ],
   "source": [
    "os.listdir('data')"
   ]
  },
  {
   "cell_type": "code",
   "execution_count": 79,
   "id": "7d07b63f-6560-405a-8ae1-97d4c2f25e8f",
   "metadata": {},
   "outputs": [
    {
     "name": "stdout",
     "output_type": "stream",
     "text": [
      "100000.0, 36.0, 0.006666666666666667, 20000.0, 2507\n",
      "200000.0, 12.0, 0.008333333333333333, 0.0, 17584\n",
      "628400.0, 120.0, 0.01, 100000.0, 7582\n",
      "4637400.0, 240.0, 0.005, 0.0, 33224\n",
      "42900.0, 90.0, 0.005833333333333334, 8900.0, 487\n",
      "916000.0, 16.0, 0.010833333333333334, 0.0, 62664\n",
      "45230.0, 48.0, 0.006666666666666667, 4300.0, 1000\n",
      "991360.0, 99.0, 0.006666666666666667, 0.0, 13712\n",
      "423000.0, 27.0, 0.0075, 47200.0, 15428\n",
      "\n"
     ]
    }
   ],
   "source": [
    "with open('./data/emis1.txt', 'r') as f:\n",
    "    print(f.read())"
   ]
  },
  {
   "cell_type": "code",
   "execution_count": 80,
   "id": "a1adb3b0-c98c-456b-b9db-c25a621bcf2c",
   "metadata": {},
   "outputs": [],
   "source": [
    "# Define a function which takes a list of dictionaries and writes to a file in CSV format\n",
    "def write_csv(items, path):\n",
    "    # Open the file in write mode\n",
    "    with open(path, 'w') as f:\n",
    "        # Return if there is nothing to write\n",
    "        if len(items) == 0:\n",
    "            return\n",
    "\n",
    "        # Write the headers in the first line\n",
    "        headers = list(items[0].keys())\n",
    "        f.write(','.join(headers) + '\\n')\n",
    "\n",
    "        # Write one item per line\n",
    "        for item in items:\n",
    "            values = []\n",
    "            for header in headers:\n",
    "                values.append(str(item.get(header, '')))\n",
    "            f.write(','.join(values) + '\\n')"
   ]
  },
  {
   "cell_type": "code",
   "execution_count": 83,
   "id": "10838f6c-d312-4b89-ab07-0ad337df442b",
   "metadata": {},
   "outputs": [],
   "source": [
    "loans3 = read_csv('./data/loans3.txt')"
   ]
  },
  {
   "cell_type": "code",
   "execution_count": 85,
   "id": "fdf8432e-c55e-4a62-a7ff-ce6f7d76bde5",
   "metadata": {},
   "outputs": [],
   "source": [
    "compute_emis(loans3)"
   ]
  },
  {
   "cell_type": "code",
   "execution_count": 87,
   "id": "325b9e4a-4866-4ade-9c51-f0bf8f227ebe",
   "metadata": {},
   "outputs": [],
   "source": [
    "write_csv(loans3, './data/emis3.txt')"
   ]
  },
  {
   "cell_type": "code",
   "execution_count": 89,
   "id": "6d7063a0-c6d0-4e78-95c3-b9901b6d9fc6",
   "metadata": {},
   "outputs": [
    {
     "name": "stdout",
     "output_type": "stream",
     "text": [
      "amount,duration,rate,down_payment,emi\n",
      "45230.0,48.0,0.07,4300.0,981\n",
      "883000.0,16.0,0.14,0.0,60819\n",
      "100000.0,12.0,0.1,0.0,8792\n",
      "728400.0,120.0,0.12,100000.0,9016\n",
      "3637400.0,240.0,0.06,0.0,26060\n",
      "82900.0,90.0,0.07,8900.0,1060\n",
      "316000.0,16.0,0.13,0.0,21618\n",
      "15230.0,48.0,0.08,4300.0,267\n",
      "991360.0,99.0,0.08,0.0,13712\n",
      "323000.0,27.0,0.09,4720010000.0,-193751447\n",
      "528400.0,120.0,0.11,100000.0,5902\n",
      "8633400.0,240.0,0.06,0.0,61853\n",
      "12900.0,90.0,0.08,8900.0,60\n",
      "\n"
     ]
    }
   ],
   "source": [
    "with open('./data/emis3.txt', 'r') as f:\n",
    "    print(f.read())"
   ]
  },
  {
   "cell_type": "code",
   "execution_count": 93,
   "id": "bfa4192b-c93a-4d23-8423-596dee910f59",
   "metadata": {},
   "outputs": [],
   "source": [
    "for i in range(1, 4):\n",
    "    loans = read_csv('./data/loans{}.txt'.format(i))\n",
    "    compute_emis(loans)\n",
    "    write_csv(loans, './data/emis{}.txt'.format(i))"
   ]
  },
  {
   "cell_type": "code",
   "execution_count": 94,
   "id": "1fbbe6d5-7380-42a9-a769-e0b19b961aef",
   "metadata": {},
   "outputs": [
    {
     "data": {
      "text/plain": [
       "['emis1.txt',\n",
       " 'emis2.txt',\n",
       " 'emis3.txt',\n",
       " 'loans1.txt',\n",
       " 'loans2.txt',\n",
       " 'loans3.txt']"
      ]
     },
     "execution_count": 94,
     "metadata": {},
     "output_type": "execute_result"
    }
   ],
   "source": [
    "os.listdir('data')"
   ]
  },
  {
   "cell_type": "code",
   "execution_count": null,
   "id": "8f0bb369-29f1-4b5b-8008-d6f4e9347e56",
   "metadata": {},
   "outputs": [],
   "source": []
  }
 ],
 "metadata": {
  "kernelspec": {
   "display_name": "Python 3 (ipykernel)",
   "language": "python",
   "name": "python3"
  },
  "language_info": {
   "codemirror_mode": {
    "name": "ipython",
    "version": 3
   },
   "file_extension": ".py",
   "mimetype": "text/x-python",
   "name": "python",
   "nbconvert_exporter": "python",
   "pygments_lexer": "ipython3",
   "version": "3.13.3"
  }
 },
 "nbformat": 4,
 "nbformat_minor": 5
}
