{
 "cells": [
  {
   "cell_type": "code",
   "execution_count": 12,
   "id": "146f7def-28e1-496a-b760-375fc8743971",
   "metadata": {},
   "outputs": [
    {
     "name": "stdout",
     "output_type": "stream",
     "text": [
      "Temperature: [38.82026173 32.00078604 34.89368992 41.204466   39.33778995 25.1136106\n",
      " 34.75044209 29.24321396 29.48390574 32.05299251 30.72021786 37.27136753\n",
      " 33.80518863 30.60837508 32.21931616]\n",
      "Humidity: [87.18740393 74.09101496 57.97539503 61.85159769 74.8815598  43.01127358\n",
      " 73.33833577 73.53189348 50.51912805 46.44631488 55.77141755 58.18553855\n",
      " 68.50983852 61.93007567 89.4186919 ]\n"
     ]
    }
   ],
   "source": [
    "import numpy as np\n",
    "\n",
    "np.random.seed(0)\n",
    "temperatures = np.random.normal(loc=30, scale=5, size=30)\n",
    "humidity = np.random.uniform(low=40, high=90, size=30)\n",
    "\n",
    "print(\"Temperature:\", temperatures[:15])\n",
    "print(\"Humidity:\", humidity[:15])"
   ]
  },
  {
   "cell_type": "code",
   "execution_count": 13,
   "id": "98a777e5-416d-42f7-a261-601e0dd68b50",
   "metadata": {},
   "outputs": [
    {
     "name": "stdout",
     "output_type": "stream",
     "text": [
      "Average Temperature: 32.21\n",
      "Max Temperature: 41.35\n",
      "Min Temperature: 17.24\n",
      "Average Humidity: 60.28\n",
      "Max Humidity: 89.42\n",
      "Min Humidity: 43.01\n"
     ]
    }
   ],
   "source": [
    "# Temperature Statistics\n",
    "print(\"Average Temperature:\", round(np.mean(temperatures), 2))\n",
    "print(\"Max Temperature:\", round(np.max(temperatures), 2))\n",
    "print(\"Min Temperature:\", round(np.min(temperatures), 2))\n",
    "\n",
    "#  Humidity Statistics\n",
    "print(\"Average Humidity:\", round(np.mean(humidity), 2))\n",
    "print(\"Max Humidity:\", round(np.max(humidity), 2))\n",
    "print(\"Min Humidity:\", round(np.min(humidity), 2))"
   ]
  },
  {
   "cell_type": "code",
   "execution_count": 24,
   "id": "62821788-74d3-4b50-8966-f51b37320e10",
   "metadata": {},
   "outputs": [
    {
     "name": "stdout",
     "output_type": "stream",
     "text": [
      "Number of hot days (>35°C): 8\n",
      "Percentage of hot days: 26.67 %\n",
      "\n",
      "Number of dry days (<50°C): 8\n",
      "Percentage of dry days: 30.0 %\n"
     ]
    }
   ],
   "source": [
    "# Count Hot Days (>35°C)\n",
    "hot_days = np.sum(temperatures > 35)\n",
    "print(\"Number of hot days (>35°C):\", hot_days)\n",
    "# Percentage of hot days\n",
    "print(\"Percentage of hot days:\", round(np.sum(temperatures > 35) / len(temperatures) * 100, 2),\"%\")\n",
    "\n",
    "# Count Dry Days (Humidity <50°C)\n",
    "dry_days = np.sum(temperatures > 35)\n",
    "print(\"\\nNumber of dry days (<50°C):\", dry_days)\n",
    "# Percentage of dry days\n",
    "print(\"Percentage of dry days:\", round(np.sum(humidity < 50) / len(humidity) * 100, 2),\"%\")\n",
    "\n"
   ]
  },
  {
   "cell_type": "code",
   "execution_count": 31,
   "id": "800d11ed-6278-43b1-be71-ae5196616819",
   "metadata": {},
   "outputs": [],
   "source": [
    "# Save Data to CSV\n",
    "np.savetxt(\"random_weather_analyzer.txt\",\n",
    "           np.column_stack((temperatures, humidity)),\n",
    "           delimiter = \",\",\n",
    "           fmt = \"%.2f\",\n",
    "           header = \"Temperature, Humidity\",\n",
    "           comments = \"\")"
   ]
  },
  {
   "cell_type": "code",
   "execution_count": null,
   "id": "1c3ced5e-99a5-45b0-bacf-e2dda23410f3",
   "metadata": {},
   "outputs": [],
   "source": []
  }
 ],
 "metadata": {
  "kernelspec": {
   "display_name": "Python 3 (ipykernel)",
   "language": "python",
   "name": "python3"
  },
  "language_info": {
   "codemirror_mode": {
    "name": "ipython",
    "version": 3
   },
   "file_extension": ".py",
   "mimetype": "text/x-python",
   "name": "python",
   "nbconvert_exporter": "python",
   "pygments_lexer": "ipython3",
   "version": "3.13.3"
  }
 },
 "nbformat": 4,
 "nbformat_minor": 5
}
